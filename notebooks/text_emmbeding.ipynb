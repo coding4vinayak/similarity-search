{
 "cells": [
  {
   "cell_type": "code",
   "execution_count": null,
   "metadata": {},
   "outputs": [],
   "source": [
    "import tensorflow as tf\n",
    "from tensorflow.keras.preprocessing.text import Tokenizer\n",
    "from tensorflow.keras.preprocessing.sequence import pad_sequences\n",
    "\n",
    "# Sample data\n",
    "texts = [\n",
    "    \"I love machine learning\",\n",
    "    \"Deep learning is fascinating\",\n",
    "    \"Natural language processing is a part of AI\",\n",
    "    \"Embeddings capture semantic information\",\n",
    "]\n",
    "\n",
    "# Tokenize the text\n",
    "tokenizer = Tokenizer()\n",
    "tokenizer.fit_on_texts(texts)\n",
    "sequences = tokenizer.texts_to_sequences(texts)\n",
    "\n",
    "# Pad sequences to ensure uniform input size\n",
    "max_length = max(len(seq) for seq in sequences)\n",
    "padded_sequences = pad_sequences(sequences, maxlen=max_length, padding='post')\n"
   ]
  },
  {
   "cell_type": "code",
   "execution_count": null,
   "metadata": {},
   "outputs": [],
   "source": [
    "vocab_size = len(tokenizer.word_index) + 1  # +1 for padding token\n",
    "\n",
    "model = tf.keras.models.Sequential([\n",
    "    tf.keras.layers.Embedding(input_dim=vocab_size, output_dim=50, input_length=max_length),\n",
    "    tf.keras.layers.Flatten(),\n",
    "    tf.keras.layers.Dense(1, activation='sigmoid')\n",
    "])\n",
    "\n",
    "model.compile(optimizer='adam', loss='binary_crossentropy', metrics=['accuracy'])\n",
    "model.summary()\n"
   ]
  },
  {
   "cell_type": "code",
   "execution_count": null,
   "metadata": {},
   "outputs": [],
   "source": [
    "# Dummy labels for demonstration\n",
    "labels = [1, 1, 0, 0]\n",
    "\n",
    "# Train the model\n",
    "model.fit(padded_sequences, labels, epochs=10)\n"
   ]
  },
  {
   "cell_type": "code",
   "execution_count": null,
   "metadata": {},
   "outputs": [],
   "source": [
    "# Extract the embeddings\n",
    "embeddings = model.layers[0].get_weights()[0]\n",
    "\n",
    "# Save embeddings to a file or use them directly in your application\n",
    "import numpy as np\n",
    "\n",
    "np.save('embeddings.npy', embeddings)\n",
    "\n",
    "# Example: use the embeddings for a word\n",
    "word_index = tokenizer.word_index\n",
    "word_embedding = embeddings[word_index['machine']]\n",
    "print(word_embedding)\n"
   ]
  },
  {
   "cell_type": "code",
   "execution_count": null,
   "metadata": {},
   "outputs": [],
   "source": [
    "import torch\n",
    "import torch.nn as nn\n",
    "from torch.utils.data import DataLoader, Dataset\n",
    "\n",
    "# Sample data\n",
    "texts = [\n",
    "    \"I love machine learning\",\n",
    "    \"Deep learning is fascinating\",\n",
    "    \"Natural language processing is a part of AI\",\n",
    "    \"Embeddings capture semantic information\",\n",
    "]\n",
    "\n",
    "# Tokenize the text\n",
    "from sklearn.preprocessing import LabelEncoder\n",
    "from sklearn.feature_extraction.text import CountVectorizer\n",
    "\n",
    "vectorizer = CountVectorizer()\n",
    "X = vectorizer.fit_transform(texts)\n",
    "vocab_size = len(vectorizer.vocabulary_)\n",
    "\n",
    "# Convert to PyTorch tensors\n",
    "X = torch.tensor(X.toarray(), dtype=torch.float32)\n",
    "\n",
    "# Dummy labels for demonstration\n",
    "labels = torch.tensor([1, 1, 0, 0], dtype=torch.float32)\n"
   ]
  },
  {
   "cell_type": "code",
   "execution_count": null,
   "metadata": {},
   "outputs": [],
   "source": [
    "class EmbeddingModel(nn.Module):\n",
    "    def __init__(self, vocab_size, embedding_dim):\n",
    "        super(EmbeddingModel, self).__init__()\n",
    "        self.embedding = nn.EmbeddingBag(vocab_size, embedding_dim, sparse=True)\n",
    "        self.fc = nn.Linear(embedding_dim, 1)\n",
    "\n",
    "    def forward(self, x):\n",
    "        x = self.embedding(x)\n",
    "        x = self.fc(x)\n",
    "        return torch.sigmoid(x)\n",
    "\n",
    "embedding_dim = 50\n",
    "model = EmbeddingModel(vocab_size, embedding_dim)\n",
    "criterion = nn.BCELoss()\n",
    "optimizer = torch.optim.Adam(model.parameters(), lr=0.01)\n"
   ]
  },
  {
   "cell_type": "code",
   "execution_count": null,
   "metadata": {},
   "outputs": [],
   "source": [
    "# Create DataLoader\n",
    "dataset = torch.utils.data.TensorDataset(X, labels)\n",
    "dataloader = DataLoader(dataset, batch_size=2, shuffle=True)\n",
    "\n",
    "# Training loop\n",
    "num_epochs = 10\n",
    "for epoch in range(num_epochs):\n",
    "    for batch_X, batch_y in dataloader:\n",
    "        optimizer.zero_grad()\n",
    "        outputs = model(batch_X.long())\n",
    "        loss = criterion(outputs, batch_y.unsqueeze(1))\n",
    "        loss.backward()\n",
    "        optimizer.step()\n",
    "\n",
    "    print(f'Epoch {epoch+1}/{num_epochs}, Loss: {loss.item()}')\n"
   ]
  },
  {
   "cell_type": "code",
   "execution_count": null,
   "metadata": {},
   "outputs": [],
   "source": [
    "# Extract the embeddings\n",
    "embeddings = model.embedding.weight.data.numpy()\n",
    "\n",
    "# Save embeddings to a file or use them directly in your application\n",
    "import numpy as np\n",
    "\n",
    "np.save('embeddings.npy', embeddings)\n",
    "\n",
    "# Example: use the embeddings for a word\n",
    "word_index = vectorizer.vocabulary_\n",
    "word_embedding = embeddings[word_index['machine']]\n",
    "print(word_embedding)\n"
   ]
  }
 ],
 "metadata": {
  "language_info": {
   "name": "python"
  }
 },
 "nbformat": 4,
 "nbformat_minor": 2
}
